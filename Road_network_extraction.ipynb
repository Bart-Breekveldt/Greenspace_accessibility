{
 "cells": [
  {
   "cell_type": "code",
   "execution_count": 5,
   "id": "80ca71be",
   "metadata": {},
   "outputs": [],
   "source": [
    "import osmnx as ox\n",
    "import geopandas as gpd\n",
    "import pandas as pd\n",
    "from shapely import geometry\n",
    "import numpy as np"
   ]
  },
  {
   "cell_type": "code",
   "execution_count": 13,
   "id": "0730c7a3",
   "metadata": {},
   "outputs": [
    {
     "data": {
      "text/plain": [
       "15"
      ]
     },
     "execution_count": 13,
     "metadata": {},
     "output_type": "execute_result"
    }
   ],
   "source": [
    "cities = ['Greater London, United Kingdom','Warsaw, Poland','Madrid, Spain','Philadelphia, United States','Denver, United States',\n",
    "         'Mexico City, Mexico','Sao Paulo, Brazil','Lima, Peru','Nairobi, Kenya','Cairo, Egypt','Lagos, Nigeria',\n",
    "         'Seoul, South Korea', 'Beijing, China', 'Bangalore, India', 'Jakarta, Indonesia']\n",
    "len(cities)"
   ]
  },
  {
   "cell_type": "code",
   "execution_count": 2,
   "id": "1101e8b9",
   "metadata": {},
   "outputs": [
    {
     "data": {
      "text/plain": [
       "['D:/Dumps/Warsaw, Poland 2 km buffer_all',\n",
       " 'D:/Dumps/Madrid, Spain 2 km buffer_all',\n",
       " 'D:/Dumps/Philadelphia, United States 2 km buffer_all',\n",
       " 'D:/Dumps/Denver, United States 2 km buffer_all',\n",
       " 'D:/Dumps/Mexico City, Mexico 2 km buffer_all',\n",
       " 'D:/Dumps/Sao Paulo, Brazil 2 km buffer_all',\n",
       " 'D:/Dumps/Lima, Peru 2 km buffer_all',\n",
       " 'D:/Dumps/Nairobi, Kenya 2 km buffer_all',\n",
       " 'D:/Dumps/Cairo, Egypt 2 km buffer_all',\n",
       " 'D:/Dumps/Lagos, Nigeria 2 km buffer_all',\n",
       " 'D:/Dumps/Seoul, South Korea 2 km buffer_all',\n",
       " 'D:/Dumps/Beijing, China 2 km buffer_all',\n",
       " 'D:/Dumps/Bangalore, India 2 km buffer_all',\n",
       " 'D:/Dumps/Jakarta, Indonesia 2 km buffer_all']"
      ]
     },
     "execution_count": 2,
     "metadata": {},
     "output_type": "execute_result"
    }
   ],
   "source": [
    "networks_buffer = list([])\n",
    "for i in cities:\n",
    "    networks_buffer.append(\"D:/Dumps/\" + i + ' 2 km buffer' .rsplit(',')[0] + '_all')\n",
    "networks_buffer"
   ]
  },
  {
   "cell_type": "code",
   "execution_count": 3,
   "id": "5a16ac5d",
   "metadata": {},
   "outputs": [
    {
     "data": {
      "text/plain": [
       "['D:/Dumps/Warsaw_all',\n",
       " 'D:/Dumps/Madrid_all',\n",
       " 'D:/Dumps/Philadelphia_all',\n",
       " 'D:/Dumps/Denver_all',\n",
       " 'D:/Dumps/Mexico City_all',\n",
       " 'D:/Dumps/Sao Paulo_all',\n",
       " 'D:/Dumps/Lima_all',\n",
       " 'D:/Dumps/Nairobi_all',\n",
       " 'D:/Dumps/Cairo_all',\n",
       " 'D:/Dumps/Lagos_all',\n",
       " 'D:/Dumps/Seoul_all',\n",
       " 'D:/Dumps/Beijing_all',\n",
       " 'D:/Dumps/Bangalore_all',\n",
       " 'D:/Dumps/Jakarta_all']"
      ]
     },
     "execution_count": 3,
     "metadata": {},
     "output_type": "execute_result"
    }
   ],
   "source": [
    "networks_limits = list([])\n",
    "for i in cities:\n",
    "    networks_limits.append(\"D:/Dumps/\" + i.rsplit(',')[0] + '_all')\n",
    "networks_limits"
   ]
  },
  {
   "cell_type": "code",
   "execution_count": 6,
   "id": "728c65f4",
   "metadata": {},
   "outputs": [
    {
     "name": "stderr",
     "output_type": "stream",
     "text": [
      "C:\\Users\\bartb\\miniconda3\\envs\\ssml\\lib\\site-packages\\osmnx\\geocoder.py:110: FutureWarning: The frame.append method is deprecated and will be removed from pandas in a future version. Use pandas.concat instead.\n",
      "  gdf = gdf.append(_geocode_query_to_gdf(q, wr, by_osmid))\n"
     ]
    },
    {
     "name": "stdout",
     "output_type": "stream",
     "text": [
      "Warsaw, Poland graph done\n",
      "Warsaw, Poland projecting done\n"
     ]
    },
    {
     "name": "stderr",
     "output_type": "stream",
     "text": [
      "C:\\Users\\bartb\\miniconda3\\envs\\ssml\\lib\\site-packages\\osmnx\\io.py:108: UserWarning: Column names longer than 10 characters will be truncated when saved to ESRI Shapefile.\n",
      "  gdf_nodes.to_file(filepath_nodes, driver=\"ESRI Shapefile\", index=True, encoding=encoding)\n"
     ]
    },
    {
     "name": "stdout",
     "output_type": "stream",
     "text": [
      "Warsaw, Poland saving done\n"
     ]
    },
    {
     "name": "stderr",
     "output_type": "stream",
     "text": [
      "C:\\Users\\bartb\\miniconda3\\envs\\ssml\\lib\\site-packages\\osmnx\\geocoder.py:110: FutureWarning: The frame.append method is deprecated and will be removed from pandas in a future version. Use pandas.concat instead.\n",
      "  gdf = gdf.append(_geocode_query_to_gdf(q, wr, by_osmid))\n"
     ]
    },
    {
     "name": "stdout",
     "output_type": "stream",
     "text": [
      "Madrid, Spain graph done\n",
      "Madrid, Spain projecting done\n"
     ]
    },
    {
     "name": "stderr",
     "output_type": "stream",
     "text": [
      "C:\\Users\\bartb\\miniconda3\\envs\\ssml\\lib\\site-packages\\osmnx\\io.py:108: UserWarning: Column names longer than 10 characters will be truncated when saved to ESRI Shapefile.\n",
      "  gdf_nodes.to_file(filepath_nodes, driver=\"ESRI Shapefile\", index=True, encoding=encoding)\n"
     ]
    },
    {
     "name": "stdout",
     "output_type": "stream",
     "text": [
      "Madrid, Spain saving done\n"
     ]
    },
    {
     "name": "stderr",
     "output_type": "stream",
     "text": [
      "C:\\Users\\bartb\\miniconda3\\envs\\ssml\\lib\\site-packages\\osmnx\\geocoder.py:110: FutureWarning: The frame.append method is deprecated and will be removed from pandas in a future version. Use pandas.concat instead.\n",
      "  gdf = gdf.append(_geocode_query_to_gdf(q, wr, by_osmid))\n"
     ]
    },
    {
     "name": "stdout",
     "output_type": "stream",
     "text": [
      "Philadelphia, United States graph done\n",
      "Philadelphia, United States projecting done\n"
     ]
    },
    {
     "name": "stderr",
     "output_type": "stream",
     "text": [
      "C:\\Users\\bartb\\miniconda3\\envs\\ssml\\lib\\site-packages\\osmnx\\io.py:108: UserWarning: Column names longer than 10 characters will be truncated when saved to ESRI Shapefile.\n",
      "  gdf_nodes.to_file(filepath_nodes, driver=\"ESRI Shapefile\", index=True, encoding=encoding)\n"
     ]
    },
    {
     "name": "stdout",
     "output_type": "stream",
     "text": [
      "Philadelphia, United States saving done\n"
     ]
    },
    {
     "name": "stderr",
     "output_type": "stream",
     "text": [
      "C:\\Users\\bartb\\miniconda3\\envs\\ssml\\lib\\site-packages\\osmnx\\geocoder.py:110: FutureWarning: The frame.append method is deprecated and will be removed from pandas in a future version. Use pandas.concat instead.\n",
      "  gdf = gdf.append(_geocode_query_to_gdf(q, wr, by_osmid))\n"
     ]
    },
    {
     "name": "stdout",
     "output_type": "stream",
     "text": [
      "Denver, United States graph done\n",
      "Denver, United States projecting done\n"
     ]
    },
    {
     "name": "stderr",
     "output_type": "stream",
     "text": [
      "C:\\Users\\bartb\\miniconda3\\envs\\ssml\\lib\\site-packages\\osmnx\\io.py:108: UserWarning: Column names longer than 10 characters will be truncated when saved to ESRI Shapefile.\n",
      "  gdf_nodes.to_file(filepath_nodes, driver=\"ESRI Shapefile\", index=True, encoding=encoding)\n"
     ]
    },
    {
     "name": "stdout",
     "output_type": "stream",
     "text": [
      "Denver, United States saving done\n"
     ]
    },
    {
     "name": "stderr",
     "output_type": "stream",
     "text": [
      "C:\\Users\\bartb\\miniconda3\\envs\\ssml\\lib\\site-packages\\osmnx\\geocoder.py:110: FutureWarning: The frame.append method is deprecated and will be removed from pandas in a future version. Use pandas.concat instead.\n",
      "  gdf = gdf.append(_geocode_query_to_gdf(q, wr, by_osmid))\n"
     ]
    },
    {
     "name": "stdout",
     "output_type": "stream",
     "text": [
      "Mexico City, Mexico graph done\n",
      "Mexico City, Mexico projecting done\n"
     ]
    },
    {
     "name": "stderr",
     "output_type": "stream",
     "text": [
      "C:\\Users\\bartb\\miniconda3\\envs\\ssml\\lib\\site-packages\\osmnx\\io.py:108: UserWarning: Column names longer than 10 characters will be truncated when saved to ESRI Shapefile.\n",
      "  gdf_nodes.to_file(filepath_nodes, driver=\"ESRI Shapefile\", index=True, encoding=encoding)\n"
     ]
    },
    {
     "name": "stdout",
     "output_type": "stream",
     "text": [
      "Mexico City, Mexico saving done\n"
     ]
    },
    {
     "name": "stderr",
     "output_type": "stream",
     "text": [
      "C:\\Users\\bartb\\miniconda3\\envs\\ssml\\lib\\site-packages\\osmnx\\geocoder.py:110: FutureWarning: The frame.append method is deprecated and will be removed from pandas in a future version. Use pandas.concat instead.\n",
      "  gdf = gdf.append(_geocode_query_to_gdf(q, wr, by_osmid))\n"
     ]
    },
    {
     "name": "stdout",
     "output_type": "stream",
     "text": [
      "Sao Paulo, Brazil graph done\n",
      "Sao Paulo, Brazil projecting done\n"
     ]
    },
    {
     "name": "stderr",
     "output_type": "stream",
     "text": [
      "C:\\Users\\bartb\\miniconda3\\envs\\ssml\\lib\\site-packages\\osmnx\\io.py:108: UserWarning: Column names longer than 10 characters will be truncated when saved to ESRI Shapefile.\n",
      "  gdf_nodes.to_file(filepath_nodes, driver=\"ESRI Shapefile\", index=True, encoding=encoding)\n"
     ]
    },
    {
     "name": "stdout",
     "output_type": "stream",
     "text": [
      "Sao Paulo, Brazil saving done\n"
     ]
    },
    {
     "name": "stderr",
     "output_type": "stream",
     "text": [
      "C:\\Users\\bartb\\miniconda3\\envs\\ssml\\lib\\site-packages\\osmnx\\geocoder.py:110: FutureWarning: The frame.append method is deprecated and will be removed from pandas in a future version. Use pandas.concat instead.\n",
      "  gdf = gdf.append(_geocode_query_to_gdf(q, wr, by_osmid))\n"
     ]
    },
    {
     "name": "stdout",
     "output_type": "stream",
     "text": [
      "Lima, Peru graph done\n",
      "Lima, Peru projecting done\n"
     ]
    },
    {
     "name": "stderr",
     "output_type": "stream",
     "text": [
      "C:\\Users\\bartb\\miniconda3\\envs\\ssml\\lib\\site-packages\\osmnx\\io.py:108: UserWarning: Column names longer than 10 characters will be truncated when saved to ESRI Shapefile.\n",
      "  gdf_nodes.to_file(filepath_nodes, driver=\"ESRI Shapefile\", index=True, encoding=encoding)\n"
     ]
    },
    {
     "name": "stdout",
     "output_type": "stream",
     "text": [
      "Lima, Peru saving done\n"
     ]
    },
    {
     "name": "stderr",
     "output_type": "stream",
     "text": [
      "C:\\Users\\bartb\\miniconda3\\envs\\ssml\\lib\\site-packages\\osmnx\\geocoder.py:110: FutureWarning: The frame.append method is deprecated and will be removed from pandas in a future version. Use pandas.concat instead.\n",
      "  gdf = gdf.append(_geocode_query_to_gdf(q, wr, by_osmid))\n"
     ]
    },
    {
     "name": "stdout",
     "output_type": "stream",
     "text": [
      "Nairobi, Kenya graph done\n",
      "Nairobi, Kenya projecting done\n"
     ]
    },
    {
     "name": "stderr",
     "output_type": "stream",
     "text": [
      "C:\\Users\\bartb\\miniconda3\\envs\\ssml\\lib\\site-packages\\osmnx\\io.py:108: UserWarning: Column names longer than 10 characters will be truncated when saved to ESRI Shapefile.\n",
      "  gdf_nodes.to_file(filepath_nodes, driver=\"ESRI Shapefile\", index=True, encoding=encoding)\n"
     ]
    },
    {
     "name": "stdout",
     "output_type": "stream",
     "text": [
      "Nairobi, Kenya saving done\n"
     ]
    },
    {
     "name": "stderr",
     "output_type": "stream",
     "text": [
      "C:\\Users\\bartb\\miniconda3\\envs\\ssml\\lib\\site-packages\\osmnx\\geocoder.py:110: FutureWarning: The frame.append method is deprecated and will be removed from pandas in a future version. Use pandas.concat instead.\n",
      "  gdf = gdf.append(_geocode_query_to_gdf(q, wr, by_osmid))\n"
     ]
    },
    {
     "name": "stdout",
     "output_type": "stream",
     "text": [
      "Cairo, Egypt graph done\n",
      "Cairo, Egypt projecting done\n"
     ]
    },
    {
     "name": "stderr",
     "output_type": "stream",
     "text": [
      "C:\\Users\\bartb\\miniconda3\\envs\\ssml\\lib\\site-packages\\osmnx\\io.py:108: UserWarning: Column names longer than 10 characters will be truncated when saved to ESRI Shapefile.\n",
      "  gdf_nodes.to_file(filepath_nodes, driver=\"ESRI Shapefile\", index=True, encoding=encoding)\n"
     ]
    },
    {
     "name": "stdout",
     "output_type": "stream",
     "text": [
      "Cairo, Egypt saving done\n"
     ]
    },
    {
     "name": "stderr",
     "output_type": "stream",
     "text": [
      "C:\\Users\\bartb\\miniconda3\\envs\\ssml\\lib\\site-packages\\osmnx\\geocoder.py:110: FutureWarning: The frame.append method is deprecated and will be removed from pandas in a future version. Use pandas.concat instead.\n",
      "  gdf = gdf.append(_geocode_query_to_gdf(q, wr, by_osmid))\n"
     ]
    },
    {
     "name": "stdout",
     "output_type": "stream",
     "text": [
      "Lagos, Nigeria graph done\n",
      "Lagos, Nigeria projecting done\n"
     ]
    },
    {
     "name": "stderr",
     "output_type": "stream",
     "text": [
      "C:\\Users\\bartb\\miniconda3\\envs\\ssml\\lib\\site-packages\\osmnx\\io.py:108: UserWarning: Column names longer than 10 characters will be truncated when saved to ESRI Shapefile.\n",
      "  gdf_nodes.to_file(filepath_nodes, driver=\"ESRI Shapefile\", index=True, encoding=encoding)\n"
     ]
    },
    {
     "name": "stdout",
     "output_type": "stream",
     "text": [
      "Lagos, Nigeria saving done\n"
     ]
    },
    {
     "name": "stderr",
     "output_type": "stream",
     "text": [
      "C:\\Users\\bartb\\miniconda3\\envs\\ssml\\lib\\site-packages\\osmnx\\geocoder.py:110: FutureWarning: The frame.append method is deprecated and will be removed from pandas in a future version. Use pandas.concat instead.\n",
      "  gdf = gdf.append(_geocode_query_to_gdf(q, wr, by_osmid))\n"
     ]
    },
    {
     "name": "stdout",
     "output_type": "stream",
     "text": [
      "Seoul, South Korea graph done\n",
      "Seoul, South Korea projecting done\n"
     ]
    },
    {
     "name": "stderr",
     "output_type": "stream",
     "text": [
      "C:\\Users\\bartb\\miniconda3\\envs\\ssml\\lib\\site-packages\\osmnx\\io.py:108: UserWarning: Column names longer than 10 characters will be truncated when saved to ESRI Shapefile.\n",
      "  gdf_nodes.to_file(filepath_nodes, driver=\"ESRI Shapefile\", index=True, encoding=encoding)\n"
     ]
    },
    {
     "name": "stdout",
     "output_type": "stream",
     "text": [
      "Seoul, South Korea saving done\n"
     ]
    },
    {
     "name": "stderr",
     "output_type": "stream",
     "text": [
      "C:\\Users\\bartb\\miniconda3\\envs\\ssml\\lib\\site-packages\\osmnx\\geocoder.py:110: FutureWarning: The frame.append method is deprecated and will be removed from pandas in a future version. Use pandas.concat instead.\n",
      "  gdf = gdf.append(_geocode_query_to_gdf(q, wr, by_osmid))\n"
     ]
    },
    {
     "name": "stdout",
     "output_type": "stream",
     "text": [
      "Beijing, China graph done\n",
      "Beijing, China projecting done\n"
     ]
    },
    {
     "name": "stderr",
     "output_type": "stream",
     "text": [
      "C:\\Users\\bartb\\miniconda3\\envs\\ssml\\lib\\site-packages\\osmnx\\io.py:108: UserWarning: Column names longer than 10 characters will be truncated when saved to ESRI Shapefile.\n",
      "  gdf_nodes.to_file(filepath_nodes, driver=\"ESRI Shapefile\", index=True, encoding=encoding)\n"
     ]
    },
    {
     "name": "stdout",
     "output_type": "stream",
     "text": [
      "Beijing, China saving done\n"
     ]
    },
    {
     "name": "stderr",
     "output_type": "stream",
     "text": [
      "C:\\Users\\bartb\\miniconda3\\envs\\ssml\\lib\\site-packages\\osmnx\\geocoder.py:110: FutureWarning: The frame.append method is deprecated and will be removed from pandas in a future version. Use pandas.concat instead.\n",
      "  gdf = gdf.append(_geocode_query_to_gdf(q, wr, by_osmid))\n"
     ]
    },
    {
     "name": "stdout",
     "output_type": "stream",
     "text": [
      "Bangalore, India graph done\n",
      "Bangalore, India projecting done\n"
     ]
    },
    {
     "name": "stderr",
     "output_type": "stream",
     "text": [
      "C:\\Users\\bartb\\miniconda3\\envs\\ssml\\lib\\site-packages\\osmnx\\io.py:108: UserWarning: Column names longer than 10 characters will be truncated when saved to ESRI Shapefile.\n",
      "  gdf_nodes.to_file(filepath_nodes, driver=\"ESRI Shapefile\", index=True, encoding=encoding)\n"
     ]
    },
    {
     "name": "stdout",
     "output_type": "stream",
     "text": [
      "Bangalore, India saving done\n"
     ]
    },
    {
     "name": "stderr",
     "output_type": "stream",
     "text": [
      "C:\\Users\\bartb\\miniconda3\\envs\\ssml\\lib\\site-packages\\osmnx\\geocoder.py:110: FutureWarning: The frame.append method is deprecated and will be removed from pandas in a future version. Use pandas.concat instead.\n",
      "  gdf = gdf.append(_geocode_query_to_gdf(q, wr, by_osmid))\n"
     ]
    },
    {
     "name": "stdout",
     "output_type": "stream",
     "text": [
      "Jakarta, Indonesia graph done\n",
      "Jakarta, Indonesia projecting done\n"
     ]
    },
    {
     "name": "stderr",
     "output_type": "stream",
     "text": [
      "C:\\Users\\bartb\\miniconda3\\envs\\ssml\\lib\\site-packages\\osmnx\\io.py:108: UserWarning: Column names longer than 10 characters will be truncated when saved to ESRI Shapefile.\n",
      "  gdf_nodes.to_file(filepath_nodes, driver=\"ESRI Shapefile\", index=True, encoding=encoding)\n"
     ]
    },
    {
     "name": "stdout",
     "output_type": "stream",
     "text": [
      "Jakarta, Indonesia saving done\n"
     ]
    }
   ],
   "source": [
    "for i in cities:\n",
    "    j = ox.graph_from_place(i, network_type=\"all\", buffer_dist = 2000)\n",
    "    print(i + ' graph done')\n",
    "    k = ox.project_graph(j)\n",
    "    print(i + ' projecting done')\n",
    "    ox.save_graph_shapefile(k ,\"D:/Dumps/\" + i + ' 2 km buffer' .rsplit(',')[0] + '_all')\n",
    "    print(i + ' saving done')"
   ]
  },
  {
   "cell_type": "code",
   "execution_count": 10,
   "id": "41e26700",
   "metadata": {},
   "outputs": [
    {
     "name": "stderr",
     "output_type": "stream",
     "text": [
      "C:\\Users\\bartb\\miniconda3\\envs\\ssml\\lib\\site-packages\\osmnx\\geocoder.py:110: FutureWarning: The frame.append method is deprecated and will be removed from pandas in a future version. Use pandas.concat instead.\n",
      "  gdf = gdf.append(_geocode_query_to_gdf(q, wr, by_osmid))\n"
     ]
    },
    {
     "name": "stdout",
     "output_type": "stream",
     "text": [
      "Sao Paulo, Brazil graph done\n",
      "Sao Paulo, Brazil projecting done\n"
     ]
    },
    {
     "name": "stderr",
     "output_type": "stream",
     "text": [
      "C:\\Users\\bartb\\miniconda3\\envs\\ssml\\lib\\site-packages\\osmnx\\io.py:108: UserWarning: Column names longer than 10 characters will be truncated when saved to ESRI Shapefile.\n",
      "  gdf_nodes.to_file(filepath_nodes, driver=\"ESRI Shapefile\", index=True, encoding=encoding)\n"
     ]
    },
    {
     "name": "stdout",
     "output_type": "stream",
     "text": [
      "Sao Paulo, Brazil saving done\n"
     ]
    },
    {
     "name": "stderr",
     "output_type": "stream",
     "text": [
      "C:\\Users\\bartb\\miniconda3\\envs\\ssml\\lib\\site-packages\\osmnx\\geocoder.py:110: FutureWarning: The frame.append method is deprecated and will be removed from pandas in a future version. Use pandas.concat instead.\n",
      "  gdf = gdf.append(_geocode_query_to_gdf(q, wr, by_osmid))\n"
     ]
    },
    {
     "name": "stdout",
     "output_type": "stream",
     "text": [
      "Lima, Peru graph done\n",
      "Lima, Peru projecting done\n"
     ]
    },
    {
     "name": "stderr",
     "output_type": "stream",
     "text": [
      "C:\\Users\\bartb\\miniconda3\\envs\\ssml\\lib\\site-packages\\osmnx\\io.py:108: UserWarning: Column names longer than 10 characters will be truncated when saved to ESRI Shapefile.\n",
      "  gdf_nodes.to_file(filepath_nodes, driver=\"ESRI Shapefile\", index=True, encoding=encoding)\n"
     ]
    },
    {
     "name": "stdout",
     "output_type": "stream",
     "text": [
      "Lima, Peru saving done\n"
     ]
    },
    {
     "name": "stderr",
     "output_type": "stream",
     "text": [
      "C:\\Users\\bartb\\miniconda3\\envs\\ssml\\lib\\site-packages\\osmnx\\geocoder.py:110: FutureWarning: The frame.append method is deprecated and will be removed from pandas in a future version. Use pandas.concat instead.\n",
      "  gdf = gdf.append(_geocode_query_to_gdf(q, wr, by_osmid))\n"
     ]
    },
    {
     "name": "stdout",
     "output_type": "stream",
     "text": [
      "Nairobi, Kenya graph done\n",
      "Nairobi, Kenya projecting done\n"
     ]
    },
    {
     "name": "stderr",
     "output_type": "stream",
     "text": [
      "C:\\Users\\bartb\\miniconda3\\envs\\ssml\\lib\\site-packages\\osmnx\\io.py:108: UserWarning: Column names longer than 10 characters will be truncated when saved to ESRI Shapefile.\n",
      "  gdf_nodes.to_file(filepath_nodes, driver=\"ESRI Shapefile\", index=True, encoding=encoding)\n"
     ]
    },
    {
     "name": "stdout",
     "output_type": "stream",
     "text": [
      "Nairobi, Kenya saving done\n"
     ]
    },
    {
     "name": "stderr",
     "output_type": "stream",
     "text": [
      "C:\\Users\\bartb\\miniconda3\\envs\\ssml\\lib\\site-packages\\osmnx\\geocoder.py:110: FutureWarning: The frame.append method is deprecated and will be removed from pandas in a future version. Use pandas.concat instead.\n",
      "  gdf = gdf.append(_geocode_query_to_gdf(q, wr, by_osmid))\n"
     ]
    },
    {
     "name": "stdout",
     "output_type": "stream",
     "text": [
      "Cairo, Egypt graph done\n",
      "Cairo, Egypt projecting done\n"
     ]
    },
    {
     "name": "stderr",
     "output_type": "stream",
     "text": [
      "C:\\Users\\bartb\\miniconda3\\envs\\ssml\\lib\\site-packages\\osmnx\\io.py:108: UserWarning: Column names longer than 10 characters will be truncated when saved to ESRI Shapefile.\n",
      "  gdf_nodes.to_file(filepath_nodes, driver=\"ESRI Shapefile\", index=True, encoding=encoding)\n"
     ]
    },
    {
     "name": "stdout",
     "output_type": "stream",
     "text": [
      "Cairo, Egypt saving done\n"
     ]
    },
    {
     "name": "stderr",
     "output_type": "stream",
     "text": [
      "C:\\Users\\bartb\\miniconda3\\envs\\ssml\\lib\\site-packages\\osmnx\\geocoder.py:110: FutureWarning: The frame.append method is deprecated and will be removed from pandas in a future version. Use pandas.concat instead.\n",
      "  gdf = gdf.append(_geocode_query_to_gdf(q, wr, by_osmid))\n"
     ]
    },
    {
     "name": "stdout",
     "output_type": "stream",
     "text": [
      "Lagos, Nigeria graph done\n",
      "Lagos, Nigeria projecting done\n"
     ]
    },
    {
     "name": "stderr",
     "output_type": "stream",
     "text": [
      "C:\\Users\\bartb\\miniconda3\\envs\\ssml\\lib\\site-packages\\osmnx\\io.py:108: UserWarning: Column names longer than 10 characters will be truncated when saved to ESRI Shapefile.\n",
      "  gdf_nodes.to_file(filepath_nodes, driver=\"ESRI Shapefile\", index=True, encoding=encoding)\n"
     ]
    },
    {
     "name": "stdout",
     "output_type": "stream",
     "text": [
      "Lagos, Nigeria saving done\n"
     ]
    },
    {
     "name": "stderr",
     "output_type": "stream",
     "text": [
      "C:\\Users\\bartb\\miniconda3\\envs\\ssml\\lib\\site-packages\\osmnx\\geocoder.py:110: FutureWarning: The frame.append method is deprecated and will be removed from pandas in a future version. Use pandas.concat instead.\n",
      "  gdf = gdf.append(_geocode_query_to_gdf(q, wr, by_osmid))\n"
     ]
    },
    {
     "name": "stdout",
     "output_type": "stream",
     "text": [
      "Seoul, South Korea graph done\n",
      "Seoul, South Korea projecting done\n"
     ]
    },
    {
     "name": "stderr",
     "output_type": "stream",
     "text": [
      "C:\\Users\\bartb\\miniconda3\\envs\\ssml\\lib\\site-packages\\osmnx\\io.py:108: UserWarning: Column names longer than 10 characters will be truncated when saved to ESRI Shapefile.\n",
      "  gdf_nodes.to_file(filepath_nodes, driver=\"ESRI Shapefile\", index=True, encoding=encoding)\n"
     ]
    },
    {
     "name": "stdout",
     "output_type": "stream",
     "text": [
      "Seoul, South Korea saving done\n"
     ]
    },
    {
     "name": "stderr",
     "output_type": "stream",
     "text": [
      "C:\\Users\\bartb\\miniconda3\\envs\\ssml\\lib\\site-packages\\osmnx\\geocoder.py:110: FutureWarning: The frame.append method is deprecated and will be removed from pandas in a future version. Use pandas.concat instead.\n",
      "  gdf = gdf.append(_geocode_query_to_gdf(q, wr, by_osmid))\n"
     ]
    },
    {
     "name": "stdout",
     "output_type": "stream",
     "text": [
      "Beijing, China graph done\n",
      "Beijing, China projecting done\n"
     ]
    },
    {
     "name": "stderr",
     "output_type": "stream",
     "text": [
      "C:\\Users\\bartb\\miniconda3\\envs\\ssml\\lib\\site-packages\\osmnx\\io.py:108: UserWarning: Column names longer than 10 characters will be truncated when saved to ESRI Shapefile.\n",
      "  gdf_nodes.to_file(filepath_nodes, driver=\"ESRI Shapefile\", index=True, encoding=encoding)\n"
     ]
    },
    {
     "name": "stdout",
     "output_type": "stream",
     "text": [
      "Beijing, China saving done\n"
     ]
    },
    {
     "name": "stderr",
     "output_type": "stream",
     "text": [
      "C:\\Users\\bartb\\miniconda3\\envs\\ssml\\lib\\site-packages\\osmnx\\geocoder.py:110: FutureWarning: The frame.append method is deprecated and will be removed from pandas in a future version. Use pandas.concat instead.\n",
      "  gdf = gdf.append(_geocode_query_to_gdf(q, wr, by_osmid))\n"
     ]
    },
    {
     "name": "stdout",
     "output_type": "stream",
     "text": [
      "Bangalore, India graph done\n",
      "Bangalore, India projecting done\n"
     ]
    },
    {
     "name": "stderr",
     "output_type": "stream",
     "text": [
      "C:\\Users\\bartb\\miniconda3\\envs\\ssml\\lib\\site-packages\\osmnx\\io.py:108: UserWarning: Column names longer than 10 characters will be truncated when saved to ESRI Shapefile.\n",
      "  gdf_nodes.to_file(filepath_nodes, driver=\"ESRI Shapefile\", index=True, encoding=encoding)\n"
     ]
    },
    {
     "name": "stdout",
     "output_type": "stream",
     "text": [
      "Bangalore, India saving done\n"
     ]
    },
    {
     "name": "stderr",
     "output_type": "stream",
     "text": [
      "C:\\Users\\bartb\\miniconda3\\envs\\ssml\\lib\\site-packages\\osmnx\\geocoder.py:110: FutureWarning: The frame.append method is deprecated and will be removed from pandas in a future version. Use pandas.concat instead.\n",
      "  gdf = gdf.append(_geocode_query_to_gdf(q, wr, by_osmid))\n"
     ]
    },
    {
     "name": "stdout",
     "output_type": "stream",
     "text": [
      "Jakarta, Indonesia graph done\n",
      "Jakarta, Indonesia projecting done\n"
     ]
    },
    {
     "name": "stderr",
     "output_type": "stream",
     "text": [
      "C:\\Users\\bartb\\miniconda3\\envs\\ssml\\lib\\site-packages\\osmnx\\io.py:108: UserWarning: Column names longer than 10 characters will be truncated when saved to ESRI Shapefile.\n",
      "  gdf_nodes.to_file(filepath_nodes, driver=\"ESRI Shapefile\", index=True, encoding=encoding)\n"
     ]
    },
    {
     "name": "stdout",
     "output_type": "stream",
     "text": [
      "Jakarta, Indonesia saving done\n"
     ]
    }
   ],
   "source": [
    "for i in cities:\n",
    "    j = ox.graph_from_place(i, network_type=\"all\")\n",
    "    print(i + ' graph done')\n",
    "    k = ox.project_graph(j)\n",
    "    print(i + ' projecting done')\n",
    "    ox.save_graph_shapefile(k ,\"D:/Dumps/\" + i.rsplit(',')[0] + '_all')\n",
    "    print(i + ' saving done')"
   ]
  },
  {
   "cell_type": "code",
   "execution_count": null,
   "id": "5513d32e",
   "metadata": {},
   "outputs": [],
   "source": [
    "# First attempt to get a boxy shape. Failed, because city boundaries in Colorado are a complete mess. Drive\n",
    "ox.save_graph_shapefile(ox.project_graph(ox.graph_from_place('Glendale, Colorado, United States', network_type=\"all\")),\n",
    "r'D:/Dumps/' + 'Glendale CO'.rsplit(',')[0] + '_all')\n",
    "ox.save_graph_shapefile(ox.project_graph(ox.graph_from_place('Sheridan, Colorado, United States', network_type=\"all\")),\n",
    "r'D:/Dumps/' + 'Sheridan CO'.rsplit(',')[0] + '_all')\n",
    "ox.save_graph_shapefile(ox.project_graph(ox.graph_from_place('Englewood, Colorado, United States', network_type=\"all\")),\n",
    "r'D:/Dumps/' + 'Englewood CO'.rsplit(',')[0] + '_all')\n",
    "ox.save_graph_shapefile(ox.project_graph(ox.graph_from_place('Cherry Hills Village, Colorado, United States', network_type=\"all\")),\n",
    "r'D:/Dumps/' + 'Cherry Hills Village CO'.rsplit(',')[0] + '_all')\n",
    "ox.save_graph_shapefile(ox.project_graph(ox.graph_from_place('Aurora, Colorado, United States', network_type=\"all\")),\n",
    "r'D:/Dumps/' + 'Aurora CO'.rsplit(',')[0] + '_all')\n",
    "\n",
    "# Shapefiles edges combine\n",
    "gpd.GeoDataFrame(pd.concat([gpd.read_file(r'D:\\Dumps\\Denver_all\\edges.shp'), \n",
    "                           gpd.read_file(r'D:\\Dumps\\Glendale CO_all\\edges.shp'),\n",
    "                           gpd.read_file(r'D:\\Dumps\\Aurora CO_all\\edges.shp'),\n",
    "                           gpd.read_file(r'D:\\Dumps\\Englewood CO_all\\edges.shp'),\n",
    "                           gpd.read_file(r'D:\\Dumps\\Sheridan CO_all\\edges.shp'),\n",
    "                           gpd.read_file(r'D:\\Dumps\\Cherry Hills Village CO_all\\edges.shp')])).set_crs(\n",
    "    4326, allow_override=True).to_file(r'D:\\Dumps\\DenverBox_all\\edges.shp')\n",
    "\n",
    "\n",
    "# Shapefiles nodes combine\n",
    "gpd.GeoDataFrame(pd.concat([gpd.read_file(r'D:\\Dumps\\Denver_all\\nodes.shp'), \n",
    "                           gpd.read_file(r'D:\\Dumps\\Glendale CO_all\\nodes.shp'),\n",
    "                           gpd.read_file(r'D:\\Dumps\\Aurora CO_all\\nodes.shp'),\n",
    "                           gpd.read_file(r'D:\\Dumps\\Englewood CO_all\\nodes.shp'),\n",
    "                           gpd.read_file(r'D:\\Dumps\\Sheridan CO_all\\nodes.shp'),\n",
    "                           gpd.read_file(r'D:\\Dumps\\Cherry Hills Village CO_all\\nodes.shp')])).set_crs(\n",
    "    4326, allow_override=True).to_file(r'D:\\Dumps\\DenverBox_all\\nodes.shp')\n",
    "\n",
    "\n",
    "    "
   ]
  },
  {
   "cell_type": "code",
   "execution_count": 17,
   "id": "410a5f10",
   "metadata": {},
   "outputs": [
    {
     "name": "stderr",
     "output_type": "stream",
     "text": [
      "C:\\Users\\bartb\\miniconda3\\envs\\ssml\\lib\\site-packages\\osmnx\\geocoder.py:110: FutureWarning: The frame.append method is deprecated and will be removed from pandas in a future version. Use pandas.concat instead.\n",
      "  gdf = gdf.append(_geocode_query_to_gdf(q, wr, by_osmid))\n",
      "C:\\Users\\bartb\\miniconda3\\envs\\ssml\\lib\\site-packages\\osmnx\\io.py:108: UserWarning: Column names longer than 10 characters will be truncated when saved to ESRI Shapefile.\n",
      "  gdf_nodes.to_file(filepath_nodes, driver=\"ESRI Shapefile\", index=True, encoding=encoding)\n",
      "C:\\Users\\bartb\\miniconda3\\envs\\ssml\\lib\\site-packages\\osmnx\\geocoder.py:110: FutureWarning: The frame.append method is deprecated and will be removed from pandas in a future version. Use pandas.concat instead.\n",
      "  gdf = gdf.append(_geocode_query_to_gdf(q, wr, by_osmid))\n",
      "C:\\Users\\bartb\\miniconda3\\envs\\ssml\\lib\\site-packages\\osmnx\\io.py:108: UserWarning: Column names longer than 10 characters will be truncated when saved to ESRI Shapefile.\n",
      "  gdf_nodes.to_file(filepath_nodes, driver=\"ESRI Shapefile\", index=True, encoding=encoding)\n"
     ]
    }
   ],
   "source": [
    "# Better attempt, take the counties Adams and Arapahoe, which cause network connectivity problems and take their urban parts.\n",
    "ox.save_graph_shapefile(ox.project_graph(ox.graph_from_place('Arapahoe county, Colorado, United States', network_type=\"all\")),\n",
    "r'D:/Dumps/' + 'Arapahoe county CO'.rsplit(',')[0] + '_all')\n",
    "ox.save_graph_shapefile(ox.project_graph(ox.graph_from_place('Adams county, Colorado, United States', network_type=\"all\")),\n",
    "r'D:/Dumps/' + 'Adams county CO'.rsplit(',')[0] + '_all')"
   ]
  },
  {
   "cell_type": "code",
   "execution_count": 18,
   "id": "a60e8917",
   "metadata": {},
   "outputs": [],
   "source": [
    "# Load those counties edges and nodes\n",
    "Arapahoe = gpd.read_file(r'D:\\Dumps\\Arapahoe county CO_all\\edges.shp')\n",
    "Adams = gpd.read_file(r'D:\\Dumps\\Adams county CO_all\\edges.shp')\n",
    "\n",
    "Arapahoe2 = gpd.read_file(r'D:\\Dumps\\Arapahoe county CO_all\\nodes.shp')\n",
    "Adams2 = gpd.read_file(r'D:\\Dumps\\Adams county CO_all\\nodes.shp')\n",
    "\n"
   ]
  },
  {
   "cell_type": "code",
   "execution_count": 19,
   "id": "d2da503c",
   "metadata": {},
   "outputs": [
    {
     "name": "stderr",
     "output_type": "stream",
     "text": [
      "C:\\Users\\bartb\\miniconda3\\envs\\ssml\\lib\\site-packages\\geopandas\\geodataframe.py:1327: UserWarning: Boolean Series key will be reindexed to match DataFrame index.\n",
      "  result = super().__getitem__(key)\n",
      "C:\\Users\\bartb\\miniconda3\\envs\\ssml\\lib\\site-packages\\geopandas\\geodataframe.py:1327: UserWarning: Boolean Series key will be reindexed to match DataFrame index.\n",
      "  result = super().__getitem__(key)\n"
     ]
    }
   ],
   "source": [
    "# Determine the urban parts, the counties are rectangle shaped to the east and I stop east of the E470 freeway and \n",
    "# north of the Rocky Mountains National Wildlife Refuge.\n",
    "Arapahoe_long = Arapahoe.to_crs(4326).bounds['maxx']\n",
    "Adams_long = Adams.to_crs(4326).bounds['maxx']\n",
    "Adams_lat = Adams.to_crs(4326).bounds['maxy']\n",
    "Arapahoe_urban = Arapahoe[Arapahoe_long < -104.71]\n",
    "Adams_urban = Adams[Adams_long < -104.65]\n",
    "Adams_urban = Adams_urban[Adams_lat < 39.86]\n",
    "\n",
    "Arapahoe_long2 = Arapahoe2.to_crs(4326).bounds['maxx']\n",
    "Adams_long2 = Adams2.to_crs(4326).bounds['maxx']\n",
    "Adams_lat2 = Adams2.to_crs(4326).bounds['maxy']\n",
    "Arapahoe_urban2 = Arapahoe2[Arapahoe_long2 < -104.71]\n",
    "Adams_urban2 = Adams2[Adams_long2 < -104.65]\n",
    "Adams_urban2 = Adams_urban2[Adams_lat2 < 39.86]"
   ]
  },
  {
   "cell_type": "code",
   "execution_count": 26,
   "id": "cd7d97ff",
   "metadata": {},
   "outputs": [
    {
     "name": "stderr",
     "output_type": "stream",
     "text": [
      "C:\\Users\\bartb\\miniconda3\\envs\\ssml\\lib\\site-packages\\geopandas\\io\\file.py:362: FutureWarning: pandas.Int64Index is deprecated and will be removed from pandas in a future version. Use pandas.Index with the appropriate dtype instead.\n",
      "  pd.Int64Index,\n",
      "C:\\Users\\bartb\\miniconda3\\envs\\ssml\\lib\\site-packages\\geopandas\\io\\file.py:362: FutureWarning: pandas.Int64Index is deprecated and will be removed from pandas in a future version. Use pandas.Index with the appropriate dtype instead.\n",
      "  pd.Int64Index,\n",
      "C:\\Users\\bartb\\miniconda3\\envs\\ssml\\lib\\site-packages\\geopandas\\io\\file.py:362: FutureWarning: pandas.Int64Index is deprecated and will be removed from pandas in a future version. Use pandas.Index with the appropriate dtype instead.\n",
      "  pd.Int64Index,\n",
      "C:\\Users\\bartb\\miniconda3\\envs\\ssml\\lib\\site-packages\\geopandas\\io\\file.py:362: FutureWarning: pandas.Int64Index is deprecated and will be removed from pandas in a future version. Use pandas.Index with the appropriate dtype instead.\n",
      "  pd.Int64Index,\n"
     ]
    }
   ],
   "source": [
    "# Store the urban parts of these countries\n",
    "Arapahoe_urban.to_file(r'D:\\Dumps\\Arapahoe urban CO_all\\edges.shp')\n",
    "Arapahoe_urban2.to_file(r'D:\\Dumps\\Arapahoe urban CO_all\\nodes.shp')\n",
    "\n",
    "Adams_urban.to_file(r'D:\\Dumps\\Adams urban CO_all\\edges.shp')\n",
    "Adams_urban2.to_file(r'D:\\Dumps\\Adams urban CO_all\\nodes.shp')\n"
   ]
  },
  {
   "cell_type": "code",
   "execution_count": 28,
   "id": "06b1450f",
   "metadata": {},
   "outputs": [
    {
     "name": "stderr",
     "output_type": "stream",
     "text": [
      "C:\\Users\\bartb\\miniconda3\\envs\\ssml\\lib\\site-packages\\geopandas\\io\\file.py:362: FutureWarning: pandas.Int64Index is deprecated and will be removed from pandas in a future version. Use pandas.Index with the appropriate dtype instead.\n",
      "  pd.Int64Index,\n"
     ]
    }
   ],
   "source": [
    "# Merge the boundaries of Denver with the urban parts of Adams and Arapahoe counties.\n",
    "# Shapefiles edges\n",
    "gpd.GeoDataFrame(pd.concat([gpd.read_file(r'D:\\Dumps\\Denver_all\\edges.shp'), \n",
    "                           gpd.read_file(r'D:\\Dumps\\Adams urban CO_all\\edges.shp'),\n",
    "                           gpd.read_file(r'D:\\Dumps\\Arapahoe urban CO_all\\edges.shp')])).set_crs(\n",
    "    4326, allow_override=True).to_file(r'D:\\Dumps\\DenverBox_all\\edges.shp')\n",
    "# Shapefiles nodes\n",
    "gpd.GeoDataFrame(pd.concat([gpd.read_file(r'D:\\Dumps\\Denver_all\\nodes.shp'), \n",
    "                           gpd.read_file(r'D:\\Dumps\\Adams urban CO_all\\nodes.shp'),\n",
    "                           gpd.read_file(r'D:\\Dumps\\Arapahoe urban CO_all\\nodes.shp')])).set_crs(\n",
    "    4326, allow_override=True).to_file(r'D:\\Dumps\\DenverBox_all\\nodes.shp')"
   ]
  },
  {
   "cell_type": "code",
   "execution_count": null,
   "id": "b9046ac8",
   "metadata": {},
   "outputs": [],
   "source": []
  }
 ],
 "metadata": {
  "kernelspec": {
   "display_name": "Python 3 (ipykernel)",
   "language": "python",
   "name": "python3"
  },
  "language_info": {
   "codemirror_mode": {
    "name": "ipython",
    "version": 3
   },
   "file_extension": ".py",
   "mimetype": "text/x-python",
   "name": "python",
   "nbconvert_exporter": "python",
   "pygments_lexer": "ipython3",
   "version": "3.9.10"
  }
 },
 "nbformat": 4,
 "nbformat_minor": 5
}
